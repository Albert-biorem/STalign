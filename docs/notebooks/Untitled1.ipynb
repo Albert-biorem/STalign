{
 "cells": [
  {
   "cell_type": "code",
   "execution_count": 5,
   "id": "25e4a016-b192-42ee-9ac4-09740637c6dd",
   "metadata": {
    "tags": []
   },
   "outputs": [],
   "source": [
    "import plotly.express as px\n",
    "import numpy as np\n",
    "import pandas as pd\n",
    "\n",
    "df2=pd.read_excel(\"/home/albert/Documentos/GitHub/predict_preu/Preus_repasats_i_filtrats per paisos.xlsx\")\n",
    "X=df2[[\"m2 hospital\",\"numero llits\",\"IMPORT EQUIPAMENT(€)\"]]\n",
    "y=df2[[\"continent\"]]\n",
    "from sklearn.preprocessing import StandardScaler\n",
    "object= StandardScaler()\n",
    "X = object.fit_transform(X) \n",
    "X = pd.DataFrame(X)\n",
    "X[\"continent\"]=y\n",
    "df = pd.DataFrame(data)\n",
    "\n",
    "# Create the 3D scatter plot using plotly.express\n",
    "fig = px.scatter_3d(X, x=0, y=1, z=2, color='continent')\n",
    "\n",
    "# Set labels and title\n",
    "fig.update_layout(scene=dict(\n",
    "    xaxis_title='X Label',\n",
    "    yaxis_title='Y Label',\n",
    "    zaxis_title='Z Label'\n",
    "))\n",
    "fig.update_layout(title='3D Scatter Plot')\n",
    "\n",
    "# Display the plot\n",
    "fig.update_layout(autosize=True) # remove height=800\n",
    "fig.show(renderer=\"browser\") \n"
   ]
  },
  {
   "cell_type": "code",
   "execution_count": 8,
   "id": "472524cf-d93c-4211-a785-c0dda298e531",
   "metadata": {
    "tags": []
   },
   "outputs": [],
   "source": [
    "import plotly.express as px\n",
    "import numpy as np\n",
    "import pandas as pd\n",
    "\n",
    "df2=pd.read_excel(\"/home/albert/Documentos/GitHub/predict_preu/Preus_repasats_i_filtrats per paisos.xlsx\")\n",
    "X=df2[[\"m2 hospital\",\"numero llits\",\"IMPORT EQUIPAMENT(€)\"]]\n",
    "y=df2[[\"continent\"]]\n",
    "\n",
    "\n",
    "# Create the 3D scatter plot using plotly.express\n",
    "fig = px.scatter_3d(df2, x=\"m2 hospital\", y=\"numero llits\", z=\"IMPORT EQUIPAMENT(€)\", color='continent')\n",
    "\n",
    "# Set labels and title\n",
    "fig.update_layout(scene=dict(\n",
    "    xaxis_title='m2',\n",
    "    yaxis_title='llits',\n",
    "    zaxis_title='IMPORT'\n",
    "))\n",
    "fig.update_layout(title='3D Scatter Plot')\n",
    "\n",
    "# Display the plot\n",
    "fig.update_layout(autosize=True) # remove height=800\n",
    "fig.show(renderer=\"browser\") "
   ]
  },
  {
   "cell_type": "code",
   "execution_count": null,
   "id": "8c07a518-74c4-4966-a606-448fb9552985",
   "metadata": {},
   "outputs": [],
   "source": []
  }
 ],
 "metadata": {
  "kernelspec": {
   "display_name": "Python 3 (ipykernel)",
   "language": "python",
   "name": "python3"
  },
  "language_info": {
   "codemirror_mode": {
    "name": "ipython",
    "version": 3
   },
   "file_extension": ".py",
   "mimetype": "text/x-python",
   "name": "python",
   "nbconvert_exporter": "python",
   "pygments_lexer": "ipython3",
   "version": "3.12.4"
  }
 },
 "nbformat": 4,
 "nbformat_minor": 5
}
